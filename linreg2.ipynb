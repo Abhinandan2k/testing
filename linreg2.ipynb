{
 "cells": [
  {
   "cell_type": "code",
   "execution_count": 42,
   "metadata": {},
   "outputs": [],
   "source": [
    "import tensorflow\n",
    "import keras\n",
    "import pandas as pd\n",
    "import numpy as np\n",
    "import sklearn\n",
    "from sklearn import linear_model\n",
    "from sklearn.utils import shuffle\n",
    "import matplotlib.pyplot as pl\n",
    "from matplotlib import style\n",
    "import pickle\n"
   ]
  },
  {
   "cell_type": "code",
   "execution_count": 43,
   "metadata": {},
   "outputs": [
    {
     "name": "stdout",
     "output_type": "stream",
     "text": [
      "  school sex  age address famsize Pstatus  Medu  Fedu     Mjob      Fjob  ...  \\\n",
      "0     GP   F   18       U     GT3       A     4     4  at_home   teacher  ...   \n",
      "1     GP   F   17       U     GT3       T     1     1  at_home     other  ...   \n",
      "2     GP   F   15       U     LE3       T     1     1  at_home     other  ...   \n",
      "3     GP   F   15       U     GT3       T     4     2   health  services  ...   \n",
      "4     GP   F   16       U     GT3       T     3     3    other     other  ...   \n",
      "\n",
      "  famrel freetime  goout  Dalc  Walc health absences  G1  G2  G3  \n",
      "0      4        3      4     1     1      3        6   5   6   6  \n",
      "1      5        3      3     1     1      3        4   5   5   6  \n",
      "2      4        3      2     2     3      3       10   7   8  10  \n",
      "3      3        2      2     1     1      5        2  15  14  15  \n",
      "4      4        3      2     1     2      5        4   6  10  10  \n",
      "\n",
      "[5 rows x 33 columns]\n"
     ]
    }
   ],
   "source": [
    "data = pd.read_csv(\"student-mat.csv\", sep=\";\")\n",
    "print(data.head())"
   ]
  },
  {
   "cell_type": "code",
   "execution_count": 44,
   "metadata": {},
   "outputs": [],
   "source": [
    "data=data[[\"G1\",\"G2\",\"G3\",\"absences\",\"failures\"]]\n"
   ]
  },
  {
   "cell_type": "code",
   "execution_count": 45,
   "metadata": {},
   "outputs": [],
   "source": [
    "predict = \"G3\"\n",
    "x=np.array(data.drop(predict,1))#features\n",
    "y=np.array(data[predict])\n",
    "\n"
   ]
  },
  {
   "cell_type": "code",
   "execution_count": 47,
   "metadata": {},
   "outputs": [
    {
     "name": "stdout",
     "output_type": "stream",
     "text": [
      "Accuracy:  0.8903177195438982\n",
      "Accuracy:  0.8488526967701138\n",
      "Accuracy:  0.9216035443098727\n",
      "Accuracy:  0.713694074997907\n",
      "Accuracy:  0.729843162519956\n",
      "Accuracy:  0.7888039705718338\n",
      "Accuracy:  0.7686436478834509\n",
      "Accuracy:  0.7702367599881124\n",
      "Accuracy:  0.7350048797796377\n",
      "Accuracy:  0.741432094858515\n",
      "Accuracy:  0.8493874406005782\n",
      "Accuracy:  0.8340697568161274\n",
      "Accuracy:  0.8428725730806205\n",
      "Accuracy:  0.8945016671480769\n",
      "Accuracy:  0.8202142313925369\n",
      "Accuracy:  0.8112307692683681\n",
      "Accuracy:  0.8508096483125085\n",
      "Accuracy:  0.7893815394618211\n",
      "Accuracy:  0.853095158497543\n",
      "Accuracy:  0.801163713361041\n",
      "-------------------------\n",
      "Coefficient: \n",
      " [ 0.15011004  0.98970896  0.05167783 -0.26304105]\n",
      "Intercept: \n",
      " -2.0648109125891736\n",
      "-------------------------\n",
      "11.406577372367883 [11 12  4  1] 11\n",
      "18.761998149753957 [18 18  6  0] 18\n",
      "10.65758055443764 [13 10 22  1] 11\n",
      "6.719871562405434 [10  8  3  3] 7\n",
      "3.4844456433634567 [3 5 8 1] 5\n",
      "8.550381496112921 [10  9  4  0] 9\n",
      "6.064032153078033 [8 7 0 0] 8\n",
      "7.0537411128992495 [8 8 0 0] 9\n",
      "18.255066726361502 [16 18  2  0] 18\n",
      "9.343226037535857 [ 8 10  6  0] 10\n",
      "14.352832180374577 [15 14  6  0] 14\n",
      "12.068270714870222 [14 12  3  0] 12\n",
      "6.9036310695344145 [7 8 0 0] 0\n",
      "3.8221163536364795 [ 6  5 16  3] 5\n",
      "12.026439798969026 [12 12  8  0] 12\n",
      "4.9746889266277865 [6 7 0 3] 0\n",
      "7.686900276080051 [6 9 4 1] 8\n",
      "12.752836128829514 [13 13  0  0] 14\n",
      "5.688331686683021 [8 7 8 3] 8\n",
      "8.44702582778153 [10  9  2  0] 10\n",
      "7.733654651113497 [7 9 2 1] 8\n",
      "9.483489162636193 [11 10  0  0] 10\n",
      "14.732254048471948 [13 15  0  0] 15\n",
      "9.19311599417102 [ 7 10  6  0] 10\n",
      "14.882364091836784 [14 15  0  0] 16\n",
      "11.186840882512644 [13 11  8  0] 11\n",
      "5.814287843084166 [5 8 0 3] 7\n",
      "11.187112465899848 [12 11 16  1] 12\n",
      "12.752836128829514 [13 13  0  0] 12\n",
      "19.75170710957517 [18 19  6  0] 19\n",
      "5.650881063139672 [7 7 0 1] 0\n",
      "13.316368845519914 [14 13  8  0] 14\n",
      "7.0537411128992495 [8 8 0 0] 0\n",
      "17.16200209820889 [16 17  0  0] 17\n",
      "9.333379119271356 [10 10  0  0] 10\n",
      "16.172293138387673 [16 16  0  0] 15\n",
      "15.135829803533014 [15 15  2  0] 14\n",
      "15.135829803533014 [15 15  2  0] 16\n",
      "16.32240318175251 [17 16  0  0] 16\n",
      "16.22889443168562 [15 16  4  0] 15\n"
     ]
    }
   ],
   "source": [
    "x_train,x_test,y_train,y_test = sklearn.model_selection.train_test_split(x,y,test_size=0.1)\n",
    "best =0\n",
    "for _ in range(20):\n",
    "    x_train,x_test,y_train,y_test = sklearn.model_selection.train_test_split(x,y,test_size=0.1)\n",
    "   \n",
    "    linear = linear_model.LinearRegression()\n",
    "    linear.fit(x_train,y_train)\n",
    "    acc = linear.score(x_test,y_test)\n",
    "    print(\"Accuracy: \",acc)\n",
    "    \n",
    "    if acc>best:\n",
    "        best=acc\n",
    "        with open(\"studentgrades.pickle\",\"wb\") as f:\n",
    "            pickle.dump(linear,f)\n",
    "\n",
    "# LOAD MODEL\n",
    "pickle_in = open(\"studentgrades.pickle\", \"rb\")\n",
    "linear = pickle.load(pickle_in)\n",
    "        \n",
    "\n",
    "print(\"-------------------------\")\n",
    "print('Coefficient: \\n', linear.coef_)\n",
    "print('Intercept: \\n', linear.intercept_)\n",
    "print(\"-------------------------\")\n",
    "\n",
    "predicted= linear.predict(x_test)\n",
    "for x in range(len(predicted)):\n",
    "    print(predicted[x], x_test[x], y_test[x])\n",
    "\n",
    "plot=\"failures\"\n",
    "\n",
    "    "
   ]
  },
  {
   "cell_type": "code",
   "execution_count": 72,
   "metadata": {},
   "outputs": [
    {
     "data": {
      "image/png": "[encoded data removed]",
      "text/plain": [
       "<Figure size 432x288 with 1 Axes>"
      ]
     },
     "metadata": {
      "needs_background": "light"
     },
     "output_type": "display_data"
    }
   ],
   "source": [
    "plot = \"absences\"\n",
    "pl.scatter(data[plot],data[\"G3\"])\n",
    "newdf=data.drop(\"G3\", axis=\"columns\")\n",
    "pl.xlabel(plot)\n",
    "pl.ylabel(\"Final Grade\")\n",
    "pl.show()"
   ]
  },
  {
   "cell_type": "code",
   "execution_count": null,
   "metadata": {},
   "outputs": [],
   "source": []
  },
  {
   "cell_type": "code",
   "execution_count": null,
   "metadata": {},
   "outputs": [],
   "source": []
  }
 ],
 "metadata": {
  "kernelspec": {
   "display_name": "Python 3",
   "language": "python",
   "name": "python3"
  },
  "language_info": {
   "codemirror_mode": {
    "name": "ipython",
    "version": 3
   },
   "file_extension": ".py",
   "mimetype": "text/x-python",
   "name": "python",
   "nbconvert_exporter": "python",
   "pygments_lexer": "ipython3",
   "version": "3.7.6"
  }
 },
 "nbformat": 4,
 "nbformat_minor": 4
}
